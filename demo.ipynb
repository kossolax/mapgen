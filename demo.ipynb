{
 "cells": [
  {
   "cell_type": "code",
   "execution_count": 5,
   "metadata": {},
   "outputs": [],
   "source": [
    "%matplotlib inline\n",
    "import matplotlib.pyplot as plt\n",
    "import cv2\n",
    "import itk\n",
    "import PIL\n",
    "import ipywidgets as widgets\n",
    "\n",
    "from io import BytesIO\n",
    "from ipywidgets import interact, interact_manual, Layout, Box, VBox, HBox, HTML, Image\n",
    "\n",
    "from MapGenerator import MapGenerator\n",
    "from VMFWriter import VMFWriter"
   ]
  },
  {
   "cell_type": "code",
   "execution_count": 25,
   "metadata": {},
   "outputs": [
    {
     "output_type": "display_data",
     "data": {
      "text/plain": "VBox(children=(IntSlider(value=32, description='mapSize', max=64, min=32, step=8), Image(value=b'\\x89PNG\\r\\n\\x…",
      "application/vnd.jupyter.widget-view+json": {
       "version_major": 2,
       "version_minor": 0,
       "model_id": "756bb0a648184ab086f39978799b0844"
      }
     },
     "metadata": {}
    }
   ],
   "source": [
    "class test():\n",
    "    def __init__(self, defaultSize=32):\n",
    "        self.size = defaultSize\n",
    "        self.fs = BytesIO()\n",
    "        self.generate()\n",
    "\n",
    "    def generate(self):\n",
    "        self.map = MapGenerator(self.size, self.size)\n",
    "        self.map.generate()\n",
    "        PIL.Image.fromarray(self.map.show()).save(self.fs, \"png\")\n",
    "\n",
    "    def refresh(self, mapSize=32):\n",
    "        print(\"hi\")\n",
    "        self.size = mapSize\n",
    "        self.generate()\n",
    "        self.img.value = self.fs.getvalue()\n",
    "        \n",
    "    def gui(self):\n",
    "        \n",
    "        self.img = Image(value=self.fs.getvalue(), format='png', width=256, height=256)\n",
    "\n",
    "        slider = widgets.IntSlider(min=32, max=64, step=8, description='mapSize', observe=self.refresh)\n",
    "        slider.observe(self.refresh, 'value')\n",
    "\n",
    "        layout = VBox(children=[\n",
    "            slider,\n",
    "            self.img\n",
    "        ])\n",
    "        \n",
    "        display(layout)\n",
    "\n",
    "\n",
    "a = test()\n",
    "a.gui()"
   ]
  },
  {
   "cell_type": "code",
   "execution_count": null,
   "metadata": {},
   "outputs": [],
   "source": []
  }
 ],
 "metadata": {
  "language_info": {
   "codemirror_mode": {
    "name": "ipython",
    "version": 3
   },
   "file_extension": ".py",
   "mimetype": "text/x-python",
   "name": "python",
   "nbconvert_exporter": "python",
   "pygments_lexer": "ipython3",
   "version": "3.7.6-final"
  },
  "orig_nbformat": 2,
  "kernelspec": {
   "name": "python37664bitbaseconda061d664be2de425cb83e5c2f736e418f",
   "display_name": "Python 3.7.6 64-bit ('base': conda)"
  }
 },
 "nbformat": 4,
 "nbformat_minor": 2
}