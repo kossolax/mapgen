{
 "cells": [
  {
   "cell_type": "code",
   "execution_count": 1,
   "metadata": {},
   "outputs": [],
   "source": [
    "%matplotlib inline\n",
    "import matplotlib.pyplot as plt\n",
    "import cv2\n",
    "import itk\n",
    "import PIL\n",
    "import ipywidgets as widgets\n",
    "import numpy as np\n",
    "\n",
    "from io import BytesIO\n",
    "from ipywidgets import interact, interact_manual, Layout, Box, VBox, HBox, HTML, Image\n",
    "\n",
    "from CurveGenerator import CurveGenerator\n",
    "from MapGenerator import MapGenerator\n",
    "from VMFWriter import VMFWriter"
   ]
  },
  {
   "cell_type": "code",
   "execution_count": 10,
   "metadata": {},
   "outputs": [
    {
     "output_type": "display_data",
     "data": {
      "text/plain": "interactive(children=(IntSlider(value=32, description='mapSize', max=128, min=32, step=8), Button(description=…",
      "application/vnd.jupyter.widget-view+json": {
       "version_major": 2,
       "version_minor": 0,
       "model_id": "e2bb6a0e53e647a7aba2f5309fda76c4"
      }
     },
     "metadata": {}
    }
   ],
   "source": [
    "class test():\n",
    "    def __init__(self, defaultSize=32, curve=CurveGenerator()):\n",
    "        self.size = defaultSize\n",
    "        self.curve = curve\n",
    "        self.display = (256, 256)\n",
    "\n",
    "    def generate(self):\n",
    "        self.map = MapGenerator(self.size, self.size, self.curve)\n",
    "        self.map.generate()\n",
    "\n",
    "    def refresh(self, mapSize=64):\n",
    "        self.size = mapSize\n",
    "        self.generate()\n",
    "\n",
    "        fig, axes = plt.subplots(1,2)\n",
    "        \n",
    "        sub = plt.subplot(1,5,1)\n",
    "        sub.imshow(PIL.Image.fromarray(cv2.resize(self.map.show(), self.display)))\n",
    "\n",
    "        sub = plt.subplot(1,5,2)\n",
    "        sub.imshow(PIL.Image.fromarray(cv2.resize(self.map.show_layer(\"water\"), self.display)))\n",
    "\n",
    "        sub = plt.subplot(1,5,3)\n",
    "        sub.imshow(PIL.Image.fromarray(cv2.resize(self.map.show_layer(\"elevation\"), self.display)))\n",
    "\n",
    "        sub = plt.subplot(1,5,4)\n",
    "        sub.imshow(PIL.Image.fromarray(cv2.resize(self.map.show_layer(\"moisture\"), self.display)))\n",
    "\n",
    "        sub = plt.subplot(1,5,5)\n",
    "        sub.imshow(PIL.Image.fromarray(cv2.resize(self.map.show_layer(\"temperature\"), self.display)))\n",
    "\n",
    "        fig.show()\n",
    "        \n",
    "    def gui(self):\n",
    "        self.curve.gui()\n",
    "        interact_manual(self.refresh, mapSize=widgets.IntSlider(min=32, max=128, step=8))\n",
    "\n",
    "\n",
    "a = test(64, CurveGenerator(3, 2.2))\n",
    "a.gui()"
   ]
  },
  {
   "cell_type": "code",
   "execution_count": null,
   "metadata": {},
   "outputs": [],
   "source": []
  }
 ],
 "metadata": {
  "language_info": {
   "codemirror_mode": {
    "name": "ipython",
    "version": 3
   },
   "file_extension": ".py",
   "mimetype": "text/x-python",
   "name": "python",
   "nbconvert_exporter": "python",
   "pygments_lexer": "ipython3",
   "version": "3.7.6-final"
  },
  "orig_nbformat": 2,
  "kernelspec": {
   "name": "python37664bitbaseconda061d664be2de425cb83e5c2f736e418f",
   "display_name": "Python 3.7.6 64-bit ('base': conda)"
  }
 },
 "nbformat": 4,
 "nbformat_minor": 2
}